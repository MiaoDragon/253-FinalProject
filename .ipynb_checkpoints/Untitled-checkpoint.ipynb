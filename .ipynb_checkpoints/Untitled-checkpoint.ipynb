{
 "cells": [
  {
   "cell_type": "code",
   "execution_count": 1,
   "metadata": {},
   "outputs": [
    {
     "name": "stdout",
     "output_type": "stream",
     "text": [
      "2.5\n",
      "[0.0, -0.5]\n",
      "tensor([-2.8859, -4.2184], grad_fn=<SumBackward1>)\n",
      "tensor([0.1116, 0.0491])\n"
     ]
    },
    {
     "data": {
      "text/plain": [
       "tensor(-0.1035, grad_fn=<DivBackward0>)"
      ]
     },
     "execution_count": 1,
     "metadata": {},
     "output_type": "execute_result"
    }
   ],
   "source": [
    "import torch\n",
    "from memory import Memory\n",
    "from policy import BaselineNet\n",
    "import numpy as np\n",
    "\n",
    "\n",
    "net = BaselineNet(obs_num=1, state_dim=1, action_dim=2, use_cnn=False)\n",
    "\n",
    "memory = Memory(capacity=2,obs_num=1,computing_device=torch.device('cpu'))\n",
    "memory.remember([[torch.tensor(0.),torch.tensor([1.,1.]),3.,torch.log(torch.tensor(0.5)), None],\\\n",
    "                 [torch.tensor(0.),torch.tensor([1.,2.]),2.,torch.log(torch.tensor(0.3)), None]])\n",
    "memory.loss_traj(net)"
   ]
  },
  {
   "cell_type": "code",
   "execution_count": 2,
   "metadata": {},
   "outputs": [
    {
     "data": {
      "text/plain": [
       "0.1204566644147729"
      ]
     },
     "execution_count": 2,
     "metadata": {},
     "output_type": "execute_result"
    }
   ],
   "source": [
    "np.exp(-2.8859)/0.5*0.*(-2.8859)+np.exp(-4.2184)/0.3*(-0.5)*(-4.2184)"
   ]
  }
 ],
 "metadata": {
  "kernelspec": {
   "display_name": "Python 3",
   "language": "python",
   "name": "python3"
  },
  "language_info": {
   "codemirror_mode": {
    "name": "ipython",
    "version": 3
   },
   "file_extension": ".py",
   "mimetype": "text/x-python",
   "name": "python",
   "nbconvert_exporter": "python",
   "pygments_lexer": "ipython3",
   "version": "3.5.2"
  }
 },
 "nbformat": 4,
 "nbformat_minor": 2
}
